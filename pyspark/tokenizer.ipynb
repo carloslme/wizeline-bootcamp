{
  "nbformat": 4,
  "nbformat_minor": 0,
  "metadata": {
    "colab": {
      "name": "tokenizer.ipynb",
      "provenance": [],
      "toc_visible": true,
      "authorship_tag": "ABX9TyNr8pSTm2iSYDBxWfXyP+pX",
      "include_colab_link": true
    },
    "kernelspec": {
      "name": "python3",
      "display_name": "Python 3"
    },
    "language_info": {
      "name": "python"
    }
  },
  "cells": [
    {
      "cell_type": "markdown",
      "metadata": {
        "id": "view-in-github",
        "colab_type": "text"
      },
      "source": [
        "<a href=\"https://colab.research.google.com/github/carloslme/wizeline-bootcamp/blob/main/pyspark/tokenizer.ipynb\" target=\"_parent\"><img src=\"https://colab.research.google.com/assets/colab-badge.svg\" alt=\"Open In Colab\"/></a>"
      ]
    },
    {
      "cell_type": "markdown",
      "metadata": {
        "id": "-2tUMYXtSbEH"
      },
      "source": [
        "## Import dependencies"
      ]
    },
    {
      "cell_type": "code",
      "metadata": {
        "id": "YatugBqJSWT8"
      },
      "source": [
        "# Common imports\n",
        "import numpy as np\n",
        "import os\n",
        "\n",
        "# Parquet imports\n",
        "import pyarrow as pa\n",
        "import pyarrow.parquet as pq\n",
        "\n",
        "# To plot pretty figures\n",
        "%matplotlib inline\n",
        "import matplotlib as mpl\n",
        "import matplotlib.pyplot as plt\n",
        "mpl.rc('axes', labelsize=14)\n",
        "mpl.rc('xtick', labelsize=12)\n",
        "mpl.rc('ytick', labelsize=12)\n",
        "\n",
        "\n",
        "import pandas as pd\n",
        "import seaborn as sns\n",
        "import warnings\n",
        "warnings.simplefilter(action='ignore', category=FutureWarning)"
      ],
      "execution_count": 1,
      "outputs": []
    },
    {
      "cell_type": "markdown",
      "metadata": {
        "id": "DpfjKrl9Sh50"
      },
      "source": [
        "## Setup PySpark session"
      ]
    },
    {
      "cell_type": "code",
      "metadata": {
        "colab": {
          "base_uri": "https://localhost:8080/"
        },
        "id": "H762sjm8SdX-",
        "outputId": "287f5ae3-988c-4424-bc3f-39aa1fcb06ba"
      },
      "source": [
        "# Install dependencies\n",
        "!apt-get install openjdk-8-jdk-headless -qq > /dev/null\n",
        "!wget -q https://downloads.apache.org/spark/spark-3.1.2/spark-3.1.2-bin-hadoop3.2.tgz \n",
        "!tar -xvf spark-3.1.2-bin-hadoop3.2.tgz\n",
        "!pip install -q findspark\n",
        "!pip install pyspark\n",
        "!pip install fsspec\n",
        "!pip install gcsfs"
      ],
      "execution_count": 2,
      "outputs": [
        {
          "output_type": "stream",
          "name": "stdout",
          "text": [
            "  Building wheel for pyspark (setup.py) ... \u001b[?25l\u001b[?25hdone\n",
            "  Created wheel for pyspark: filename=pyspark-3.2.0-py2.py3-none-any.whl size=281805912 sha256=900701ea23b32bb60a49befcf2b9636f5e72283f2d84fe5efadedefcf9e3378d\n",
            "  Stored in directory: /root/.cache/pip/wheels/0b/de/d2/9be5d59d7331c6c2a7c1b6d1a4f463ce107332b1ecd4e80718\n",
            "Successfully built pyspark\n",
            "Installing collected packages: py4j, pyspark\n",
            "Successfully installed py4j-0.10.9.2 pyspark-3.2.0\n"
          ]
        }
      ]
    },
    {
      "cell_type": "code",
      "metadata": {
        "id": "Wv1MTzR1SlD1"
      },
      "source": [
        "from pyspark.sql import SparkSession\n",
        "from pyspark.sql import functions as f\n",
        "from pyspark.sql.functions import *\n",
        "from pyspark.sql.types import StringType, IntegerType\n",
        "import pyspark\n",
        "from pyspark import SparkContext\n",
        "from pyspark import SparkConf\n",
        "\n",
        "sc = SparkContext()\n",
        "spark = SparkSession.builder.getOrCreate()"
      ],
      "execution_count": 3,
      "outputs": []
    },
    {
      "cell_type": "markdown",
      "metadata": {
        "id": "6XWvnj8SS4eN"
      },
      "source": [
        "### Read data from raw layer bucket\n",
        "Instead of pulling data from bucket, we are going to upload the CSV file directly on this Colab session and work with it. \n",
        "\n",
        "Once this script is deployed in Airflow using Dataproc, there should be not necessary to setup credentials."
      ]
    },
    {
      "cell_type": "code",
      "metadata": {
        "id": "OkDVa636Smkt"
      },
      "source": [
        "df = spark.read.options(header=True).csv('/movie_review.csv')"
      ],
      "execution_count": 21,
      "outputs": []
    },
    {
      "cell_type": "code",
      "metadata": {
        "colab": {
          "base_uri": "https://localhost:8080/"
        },
        "id": "0uElKNAqXL9q",
        "outputId": "c0b36ce3-5fb5-4ce9-86f7-9bb729fb989b"
      },
      "source": [
        "df.head(5)"
      ],
      "execution_count": 23,
      "outputs": [
        {
          "output_type": "execute_result",
          "data": {
            "text/plain": [
              "[Row(cid='13756', review_str=\"Once again Mr. Costner has dragged out a movie for far longer than necessary. Aside from the terrific sea rescue sequences, of which there are very few I just did not care about any of the characters. Most of us have ghosts in the closet, and Costner's character are realized early on, and then forgotten until much later, by which time I did not care. The character we should really care about is a very cocky, overconfident Ashton Kutcher. The problem is he comes off as kid who thinks he's better than anyone else around him and shows no signs of a cluttered closet. His only obstacle appears to be winning over Costner. Finally when we are well past the half way point of this stinker, Costner tells us all about Kutcher's ghosts. We are told why Kutcher is driven to be the best with no prior inkling or foreshadowing. No magic here, it was all I could do to keep from turning it off an hour in.\"),\n",
              " Row(cid='15738', review_str=\"This is an example of why the majority of action films are the same. Generic and boring, there's really nothing worth watching here. A complete waste of the then barely-tapped talents of Ice-T and Ice Cube, who've each proven many times over that they are capable of acting, and acting well. Don't bother with this one, go see New Jack City, Ricochet or watch New York Undercover for Ice-T, or Boyz n the Hood, Higher Learning or Friday for Ice Cube and see the real deal. Ice-T's horribly cliched dialogue alone makes this film grate at the teeth, and I'm still wondering what the heck Bill Paxton was doing in this film? And why the heck does he always play the exact same character? From Aliens onward, every film I've seen with Bill Paxton has him playing the exact same irritating character, and at least in Aliens his character died, which made it somewhat gratifying...<br /><br />Overall, this is second-rate action trash. There are countless better films to see, and if you really want to see this one, watch Judgement Night, which is practically a carbon copy but has better acting and a better script. The only thing that made this at all worth watching was a decent hand on the camera - the cinematography was almost refreshing, which comes close to making up for the horrible film itself - but not quite. 4/10.\"),\n",
              " Row(cid='15727', review_str=\"First of all I hate those moronic rappers, who could'nt act if they had a gun pressed against their foreheads. All they do is curse and shoot each other and acting like cliché'e version of gangsters.<br /><br />The movie doesn't take more than five minutes to explain what is going on before we're already at the warehouse There is not a single sympathetic character in this movie, except for the homeless guy, who is also the only one with half a brain.<br /><br />Bill Paxton and William Sadler are both hill billies and Sadlers character is just as much a villain as the gangsters. I did'nt like him right from the start.<br /><br />The movie is filled with pointless violence and Walter Hills specialty: people falling through windows with glass flying everywhere. There is pretty much no plot and it is a big problem when you root for no-one. Everybody dies, except from Paxton and the homeless guy and everybody get what they deserve.<br /><br />The only two black people that can act is the homeless guy and the junkie but they're actors by profession, not annoying ugly brain dead rappers.<br /><br />Stay away from this crap and watch 48 hours 1 and 2 instead. At lest they have characters you care about, a sense of humor and nothing but real actors in the cast.\"),\n",
              " Row(cid='17954', review_str=\"Not even the Beatles could write songs everyone liked, and although Walter Hill is no mop-top he's second to none when it comes to thought provoking action movies. The nineties came and social platforms were changing in music and film, the emergence of the Rapper turned movie star was in full swing, the acting took a back seat to each man's overpowering regional accent and transparent acting. This was one of the many ice-t movies i saw as a kid and loved, only to watch them later and cringe. Bill Paxton and William Sadler are firemen with basic lives until a burning building tenant about to go up in flames hands over a map with gold implications. I hand it to Walter for quickly and neatly setting up the main characters and location. But i fault everyone involved for turning out Lame-o performances. Ice-t and cube must have been red hot at this time, and while I've enjoyed both their careers as rappers, in my opinion they fell flat in this movie. It's about ninety minutes of one guy ridiculously turning his back on the other guy to the point you find yourself locked in multiple states of disbelief. Now this is a movie, its not a documentary so i wont waste my time recounting all the stupid plot twists in this movie, but there were many, and they led nowhere. I got the feeling watching this that everyone on set was sord of confused and just playing things off the cuff. There are two things i still enjoy about it, one involves a scene with a needle and the other is Sadler's huge 45 pistol. Bottom line this movie is like domino's pizza. Yeah ill eat it if I'm hungry and i don't feel like cooking, But I'm well aware it tastes like crap. 3 stars, meh.\"),\n",
              " Row(cid='16579', review_str=\"Brass pictures (movies is not a fitting word for them) really are somewhat brassy. Their alluring visual qualities are reminiscent of expensive high class TV commercials. But unfortunately Brass pictures are feature films with the pretense of wanting to entertain viewers for over two hours! In this they fail miserably, their undeniable, but rather soft and flabby than steamy, erotic qualities non withstanding.<br /><br />Senso '45 is a remake of a film by Luchino Visconti with the same title and Alida Valli and Farley Granger in the lead. The original tells a story of senseless love and lust in and around Venice during the Italian wars of independence. Brass moved the action from the 19th into the 20th century, 1945 to be exact, so there are Mussolini murals, men in black shirts, German uniforms or the tattered garb of the partisans. But it is just window dressing, the historic context is completely negligible.<br /><br />Anna Galiena plays the attractive aristocratic woman who falls for the amoral SS guy who always puts on too much lipstick. She is an attractive, versatile, well trained Italian actress and clearly above the material. Her wide range of facial expressions (signalling boredom, loathing, delight, fear, hate ... and ecstasy) are the best reason to watch this picture and worth two stars. She endures this basically trashy stuff with an astonishing amount of dignity. I wish some really good parts come along for her. She really deserves it.\")]"
            ]
          },
          "metadata": {},
          "execution_count": 23
        }
      ]
    },
    {
      "cell_type": "code",
      "metadata": {
        "colab": {
          "base_uri": "https://localhost:8080/"
        },
        "id": "HF0jzWebXTI_",
        "outputId": "b245f556-0dbe-49ef-e34d-d2c24553075d"
      },
      "source": [
        "df.columns"
      ],
      "execution_count": 25,
      "outputs": [
        {
          "output_type": "execute_result",
          "data": {
            "text/plain": [
              "['cid', 'review_str']"
            ]
          },
          "metadata": {},
          "execution_count": 25
        }
      ]
    },
    {
      "cell_type": "code",
      "metadata": {
        "id": "MCEPeGAvVp_v"
      },
      "source": [
        "from pyspark.ml.feature import RegexTokenizer\n",
        "from pyspark.ml.feature import StopWordsRemover\n",
        "from pyspark.sql.functions import col, udf, when\n",
        "from pyspark.sql.types import BooleanType, IntegerType\n",
        "\n",
        "# Tokenizing the words\n",
        "regexTokenizer = RegexTokenizer(\n",
        "    inputCol='review_str',\n",
        "    outputCol='review_token',\n",
        "    pattern='\\\\W'\n",
        "    )\n",
        "regexTokenized = regexTokenizer.transform(df)"
      ],
      "execution_count": 22,
      "outputs": []
    },
    {
      "cell_type": "code",
      "metadata": {
        "id": "yWx35tNlT7kA"
      },
      "source": [
        "# Removing stop words\n",
        "remover = StopWordsRemover(\n",
        "    inputCol=\"review_token\",\n",
        "    outputCol=\"filtered\",\n",
        "    #stopWords=stopwordList\n",
        "    )"
      ],
      "execution_count": 27,
      "outputs": []
    },
    {
      "cell_type": "code",
      "metadata": {
        "id": "J363mGeNXlMF"
      },
      "source": [
        "clean_df = remover.transform(regexTokenized).select('cid', 'filtered')"
      ],
      "execution_count": 28,
      "outputs": []
    },
    {
      "cell_type": "code",
      "metadata": {
        "id": "fJrFZUodYKzx"
      },
      "source": [
        "# Filter positive reviews\n",
        "word_good = udf(lambda words: 'good' in words, BooleanType())\n",
        "reviews_bool = clean_df.withColumn('positive_review_bool', word_good(col('filtered')))\n",
        "                       .select('cid', 'positive_review_bool')"
      ],
      "execution_count": 29,
      "outputs": []
    },
    {
      "cell_type": "code",
      "metadata": {
        "colab": {
          "base_uri": "https://localhost:8080/"
        },
        "id": "DowsylPTYs0P",
        "outputId": "7d5e4626-2f4d-4de9-adae-3895df416ced"
      },
      "source": [
        "reviews_bool.head(5)"
      ],
      "execution_count": 31,
      "outputs": [
        {
          "output_type": "execute_result",
          "data": {
            "text/plain": [
              "[Row(cid='13756', positive_review_bool=False),\n",
              " Row(cid='15738', positive_review_bool=False),\n",
              " Row(cid='15727', positive_review_bool=False),\n",
              " Row(cid='17954', positive_review_bool=False),\n",
              " Row(cid='16579', positive_review_bool=True)]"
            ]
          },
          "metadata": {},
          "execution_count": 31
        }
      ]
    },
    {
      "cell_type": "code",
      "metadata": {
        "id": "xN-OH5O2YueV"
      },
      "source": [
        "# Converting \"positive_review_bool\" column from boolean to int\n",
        "reviews = reviews_bool.withColumn(\"positive_review\",\n",
        "                       when(reviews_bool.positive_review_bool == True, 1)\n",
        "                      .otherwise(0)).select('cid','positive_review')"
      ],
      "execution_count": 33,
      "outputs": []
    },
    {
      "cell_type": "code",
      "metadata": {
        "colab": {
          "base_uri": "https://localhost:8080/"
        },
        "id": "FKQUyzVeZVui",
        "outputId": "39138000-fe4a-4a6e-a715-23cd21ff6eb9"
      },
      "source": [
        "reviews.show(5)"
      ],
      "execution_count": 35,
      "outputs": [
        {
          "output_type": "stream",
          "name": "stdout",
          "text": [
            "+-----+---------------+\n",
            "|  cid|positive_review|\n",
            "+-----+---------------+\n",
            "|13756|              0|\n",
            "|15738|              0|\n",
            "|15727|              0|\n",
            "|17954|              0|\n",
            "|16579|              1|\n",
            "+-----+---------------+\n",
            "only showing top 5 rows\n",
            "\n"
          ]
        }
      ]
    },
    {
      "cell_type": "code",
      "metadata": {
        "id": "ivzQy6roZKtg"
      },
      "source": [
        "# Saving data frame as parquet\n",
        "reviews.write.parquet('gs://BUCKET-NAME-HERE/reviews.parquet')"
      ],
      "execution_count": null,
      "outputs": []
    },
    {
      "cell_type": "markdown",
      "metadata": {
        "id": "89uC5-uqaDB7"
      },
      "source": [
        "## Script for Dataproc\n"
      ]
    },
    {
      "cell_type": "code",
      "metadata": {
        "id": "-qTmLYeaZhfD"
      },
      "source": [
        "from pyspark.sql import SparkSession\n",
        "from pyspark.ml.feature import RegexTokenizer\n",
        "from pyspark.ml.feature import StopWordsRemover\n",
        "from pyspark.sql.functions import col, udf, when\n",
        "from pyspark.sql.types import BooleanType, IntegerType\n",
        "\n",
        "df = spark.read.options(header=True).csv('/movie_review.csv')\n",
        "\n",
        "# Tokenizing the words\n",
        "regexTokenizer = RegexTokenizer(\n",
        "    inputCol='review_str',\n",
        "    outputCol='review_token',\n",
        "    pattern='\\\\W'\n",
        "    )\n",
        "regexTokenized = regexTokenizer.transform(df)\n",
        "\n",
        "# Removing stop words\n",
        "remover = StopWordsRemover(\n",
        "    inputCol=\"review_token\",\n",
        "    outputCol=\"filtered\",\n",
        "    #stopWords=stopwordList\n",
        "    )\n",
        "\n",
        "clean_df = remover.transform(regexTokenized).select('cid', 'filtered')\n",
        "\n",
        "# Filter positive reviews\n",
        "word_good = udf(lambda words: 'good' in words, BooleanType())\n",
        "reviews_bool = clean_df.withColumn('positive_review_bool', word_good(col('filtered')))\n",
        "                       .select('cid', 'positive_review_bool')\n",
        "\n",
        "# Converting \"positive_review_bool\" column from boolean to int\n",
        "reviews = reviews_bool.withColumn(\"positive_review\",\n",
        "                       when(reviews_bool.positive_review_bool == True, 1)\n",
        "                      .otherwise(0)).select('cid','positive_review')\n",
        "\n",
        "# Saving data frame as parquet\n",
        "reviews.write.parquet('gs://BUCKET-NAME-HERE/reviews.parquet')"
      ],
      "execution_count": null,
      "outputs": []
    }
  ]
}