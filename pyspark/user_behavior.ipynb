{
  "nbformat": 4,
  "nbformat_minor": 0,
  "metadata": {
    "colab": {
      "name": "user_behavior.ipynb",
      "provenance": [],
      "authorship_tag": "ABX9TyN88Z0cMw5fO6arNZrMgt7Q",
      "include_colab_link": true
    },
    "kernelspec": {
      "name": "python3",
      "display_name": "Python 3"
    },
    "language_info": {
      "name": "python"
    }
  },
  "cells": [
    {
      "cell_type": "markdown",
      "metadata": {
        "id": "view-in-github",
        "colab_type": "text"
      },
      "source": [
        "<a href=\"https://colab.research.google.com/github/carloslme/wizeline-bootcamp/blob/main/pyspark/user_behavior.ipynb\" target=\"_parent\"><img src=\"https://colab.research.google.com/assets/colab-badge.svg\" alt=\"Open In Colab\"/></a>"
      ]
    },
    {
      "cell_type": "code",
      "metadata": {
        "id": "E_OeoEozXrvu"
      },
      "source": [
        "# Common imports\n",
        "import numpy as np\n",
        "import os\n",
        "\n",
        "# Parquet imports\n",
        "import pyarrow as pa\n",
        "import pyarrow.parquet as pq\n",
        "\n",
        "# To plot pretty figures\n",
        "%matplotlib inline\n",
        "import matplotlib as mpl\n",
        "import matplotlib.pyplot as plt\n",
        "mpl.rc('axes', labelsize=14)\n",
        "mpl.rc('xtick', labelsize=12)\n",
        "mpl.rc('ytick', labelsize=12)\n",
        "\n",
        "\n",
        "import pandas as pd\n",
        "import seaborn as sns\n",
        "import warnings\n",
        "warnings.simplefilter(action='ignore', category=FutureWarning)"
      ],
      "execution_count": 1,
      "outputs": []
    },
    {
      "cell_type": "code",
      "metadata": {
        "id": "ZokoqPCsXvMa"
      },
      "source": [
        "# Install dependencies\n",
        "!apt-get install openjdk-8-jdk-headless -qq > /dev/null\n",
        "!wget -q https://downloads.apache.org/spark/spark-3.1.2/spark-3.1.2-bin-hadoop3.2.tgz \n",
        "!tar -xvf spark-3.1.2-bin-hadoop3.2.tgz\n",
        "!pip install -q findspark\n",
        "!pip install pyspark\n",
        "!pip install fsspec\n",
        "!pip install gcsfs"
      ],
      "execution_count": null,
      "outputs": []
    },
    {
      "cell_type": "code",
      "metadata": {
        "id": "6FEtwGbvXx76"
      },
      "source": [
        "from pyspark.sql import SparkSession\n",
        "from pyspark.sql import functions as f\n",
        "from pyspark.sql.functions import *\n",
        "from pyspark.sql.types import StringType, IntegerType\n",
        "import pyspark\n",
        "from pyspark import SparkContext\n",
        "from pyspark import SparkConf\n",
        "\n",
        "sc = SparkContext()\n",
        "spark = SparkSession.builder.getOrCreate()"
      ],
      "execution_count": 3,
      "outputs": []
    },
    {
      "cell_type": "code",
      "metadata": {
        "id": "gMuB0ovLbK-A"
      },
      "source": [
        "from google.oauth2 import service_account\n",
        "from google.cloud.storage import client\n",
        "import io\n",
        "import pandas as pd\n",
        "from io import BytesIO\n",
        "import json\n",
        "import filecmp"
      ],
      "execution_count": 4,
      "outputs": []
    },
    {
      "cell_type": "code",
      "metadata": {
        "id": "sodDksfFbMXO"
      },
      "source": [
        "credentials = service_account.Credentials.from_service_account_file(\n",
        "    '/content/gcs_service_account.json',\n",
        "    scopes=[\"https://www.googleapis.com/auth/cloud-platform\"],\n",
        ")\n",
        "\n",
        "client = client.Client(\n",
        "    credentials=credentials,\n",
        "    project=credentials.project_id,\n",
        ")"
      ],
      "execution_count": 6,
      "outputs": []
    },
    {
      "cell_type": "code",
      "metadata": {
        "id": "jdK4QH-Fbu0r"
      },
      "source": [
        "BUCKET = 'staging-layer-330021'"
      ],
      "execution_count": 7,
      "outputs": []
    },
    {
      "cell_type": "code",
      "metadata": {
        "id": "Es9Ok5eXbotM"
      },
      "source": [
        "def download_file(local_filename, remote_filename):\n",
        "    bucket = client.get_bucket(BUCKET)\n",
        "    blob = bucket.blob(remote_filename)\n",
        "    blob.download_to_filename(local_filename)"
      ],
      "execution_count": 8,
      "outputs": []
    },
    {
      "cell_type": "code",
      "metadata": {
        "id": "PsPPmqu7ZCUd"
      },
      "source": [
        "download_file(\"/content/user_purchase.csv\",\"user_purchase.csv\")"
      ],
      "execution_count": 9,
      "outputs": []
    },
    {
      "cell_type": "code",
      "metadata": {
        "id": "CsD6MsiCcojM"
      },
      "source": [
        "download_file(\"/content/part-00000-59bf5da5-e43a-4eba-8c9b-153c96ee2a85-c000.snappy.parquet\", \"reviews.parquet/part-00000-59bf5da5-e43a-4eba-8c9b-153c96ee2a85-c000.snappy.parquet\")\n",
        "download_file(\"/content/part-00001-59bf5da5-e43a-4eba-8c9b-153c96ee2a85-c000.snappy.parquet\", \"reviews.parquet/part-00001-59bf5da5-e43a-4eba-8c9b-153c96ee2a85-c000.snappy.parquet\")"
      ],
      "execution_count": 13,
      "outputs": []
    },
    {
      "cell_type": "code",
      "metadata": {
        "id": "WH33PcO3XywR"
      },
      "source": [
        "df_reviews = spark.read.options(header=True).parquet('*.parquet')"
      ],
      "execution_count": 31,
      "outputs": []
    },
    {
      "cell_type": "code",
      "metadata": {
        "id": "Tm-nSdIee771"
      },
      "source": [
        "df_user_purchase = spark.read.options(header=True).csv('*.csv')"
      ],
      "execution_count": 32,
      "outputs": []
    },
    {
      "cell_type": "code",
      "metadata": {
        "colab": {
          "base_uri": "https://localhost:8080/"
        },
        "id": "fOUfESiIe_KV",
        "outputId": "e2f62492-2e47-4c0c-e203-1e9ed99c44cf"
      },
      "source": [
        "df_reviews.columns"
      ],
      "execution_count": 25,
      "outputs": [
        {
          "output_type": "execute_result",
          "data": {
            "text/plain": [
              "['user_id', 'positive_review']"
            ]
          },
          "metadata": {},
          "execution_count": 25
        }
      ]
    },
    {
      "cell_type": "code",
      "metadata": {
        "id": "Mx0SEgVJicm2",
        "outputId": "5a287e9f-fb5c-4b53-a1ce-94eed2579055",
        "colab": {
          "base_uri": "https://localhost:8080/"
        }
      },
      "source": [
        "df_user_purchase.columns"
      ],
      "execution_count": 27,
      "outputs": [
        {
          "output_type": "execute_result",
          "data": {
            "text/plain": [
              "['invoice_number',\n",
              " 'stock_code',\n",
              " 'detail',\n",
              " 'quantity',\n",
              " 'invoice_date',\n",
              " 'unit_price',\n",
              " 'customer_id',\n",
              " 'country']"
            ]
          },
          "metadata": {},
          "execution_count": 27
        }
      ]
    },
    {
      "cell_type": "code",
      "metadata": {
        "id": "APHqfTPqhalN"
      },
      "source": [
        "from pyspark.sql.functions import *\n",
        "\n",
        "data = (\n",
        "    df_reviews.join(df_user_purchase, df_reviews.user_id == df_user_purchase.customer_id).select(df_reviews[\"positive_review\"], df_user_purchase[\"*\"])\n",
        ")"
      ],
      "execution_count": 35,
      "outputs": []
    },
    {
      "cell_type": "code",
      "metadata": {
        "id": "UdMXYO4whhvj",
        "outputId": "2b3ef873-5a88-4000-fdfd-07b0dfb8f3db",
        "colab": {
          "base_uri": "https://localhost:8080/"
        }
      },
      "source": [
        "data.show(10)"
      ],
      "execution_count": 36,
      "outputs": [
        {
          "output_type": "stream",
          "name": "stdout",
          "text": [
            "+---------------+--------------+----------+--------------------+--------+------------+----------+-----------+--------------+\n",
            "|positive_review|invoice_number|stock_code|              detail|quantity|invoice_date|unit_price|customer_id|       country|\n",
            "+---------------+--------------+----------+--------------------+--------+------------+----------+-----------+--------------+\n",
            "|              0|        536365|    85123A|WHITE HANGING HEA...|       6|1291191960.0|      2.55|      17850|United Kingdom|\n",
            "|              1|        536365|    85123A|WHITE HANGING HEA...|       6|1291191960.0|      2.55|      17850|United Kingdom|\n",
            "|              0|        536365|    85123A|WHITE HANGING HEA...|       6|1291191960.0|      2.55|      17850|United Kingdom|\n",
            "|              0|        536365|    85123A|WHITE HANGING HEA...|       6|1291191960.0|      2.55|      17850|United Kingdom|\n",
            "|              0|        536365|    85123A|WHITE HANGING HEA...|       6|1291191960.0|      2.55|      17850|United Kingdom|\n",
            "|              0|        536365|    85123A|WHITE HANGING HEA...|       6|1291191960.0|      2.55|      17850|United Kingdom|\n",
            "|              0|        536365|    85123A|WHITE HANGING HEA...|       6|1291191960.0|      2.55|      17850|United Kingdom|\n",
            "|              1|        536365|    85123A|WHITE HANGING HEA...|       6|1291191960.0|      2.55|      17850|United Kingdom|\n",
            "|              1|        536365|    85123A|WHITE HANGING HEA...|       6|1291191960.0|      2.55|      17850|United Kingdom|\n",
            "|              0|        536365|    85123A|WHITE HANGING HEA...|       6|1291191960.0|      2.55|      17850|United Kingdom|\n",
            "+---------------+--------------+----------+--------------------+--------+------------+----------+-----------+--------------+\n",
            "only showing top 10 rows\n",
            "\n"
          ]
        }
      ]
    },
    {
      "cell_type": "code",
      "metadata": {
        "id": "a_jutf-_inpV"
      },
      "source": [
        ""
      ],
      "execution_count": null,
      "outputs": []
    }
  ]
}