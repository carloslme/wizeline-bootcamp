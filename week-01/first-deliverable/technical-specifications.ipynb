{
 "cells": [
  {
   "cell_type": "markdown",
   "metadata": {},
   "source": [
    "# First Deliverable"
   ]
  },
  {
   "cell_type": "markdown",
   "metadata": {},
   "source": [
    "**First Deliverable (due October 24th, 11:59 PM)**\n",
    "\n",
    "Based on the self-study material, recorded and live session, and mentorship covered until this deliverable, we suggest you perform the following:\n",
    "\n",
    "* Take as reference Terraform reference, identify and select the corresponding terraform blocks to build your own Airflow Cluster.\n",
    "* Airflow Cluster must be built with GKS in Google or EKS in AWS.\n",
    "* In case of some difficulties, take advantage of templates provided by Wizeline to build and start your Airflow Cluster.\n",
    "* Take your notes about any blocker and your lessons learned to be discussed during Q&A and Mentoring sessions.\n",
    "\n",
    "\n",
    "**Outcome:**\n",
    "* Terraform blocks to build and run your Airflow Cluster.\n",
    "* (Optional) Automation process to run Terraform blocks as part of the main Data Pipeline\n",
    "\n",
    "\n",
    "**Notes:**\n",
    "* What has been listed in this deliverable is just for guidance and to help you distribute your workload; you can deliver more or fewer items if necessary. However, if you deliver fewer items at this point, you have to cover the remaining tasks in the next deliverable.\n",
    "* Your mentor will post the feedback comments on your mentoring session. For reference, take a look at the DE Bootcamp calendar."
   ]
  },
  {
   "cell_type": "markdown",
   "metadata": {},
   "source": [
    "# Resources\n",
    "* https://gmusumeci.medium.com/how-to-create-a-service-account-for-terraform-in-gcp-google-cloud-platform-f75a0cf918d1\n",
    "* https://learn.hashicorp.com/tutorials/terraform/infrastructure-as-code?in=terraform/gcp-get-started\n"
   ]
  },
  {
   "cell_type": "markdown",
   "metadata": {},
   "source": []
  },
  {
   "cell_type": "markdown",
   "metadata": {},
   "source": []
  }
 ],
 "metadata": {
  "language_info": {
   "name": "python"
  },
  "orig_nbformat": 4
 },
 "nbformat": 4,
 "nbformat_minor": 2
}
